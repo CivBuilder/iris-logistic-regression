{
 "cells": [
  {
   "cell_type": "code",
   "execution_count": null,
   "metadata": {},
   "outputs": [],
   "source": [
    "import numpy as np"
   ]
  },
  {
   "cell_type": "code",
   "execution_count": null,
   "metadata": {},
   "outputs": [],
   "source": [
    "import math"
   ]
  },
  {
   "cell_type": "code",
   "execution_count": null,
   "metadata": {},
   "outputs": [],
   "source": [
    "from sklearn.linear_model import LogisticRegression"
   ]
  },
  {
   "cell_type": "code",
   "execution_count": null,
   "metadata": {},
   "outputs": [],
   "source": [
    "from sklearn.metrics import precision_score, recall_score, f1_score, accuracy_score, log_loss"
   ]
  },
  {
   "cell_type": "code",
   "execution_count": null,
   "metadata": {},
   "outputs": [],
   "source": [
    "from sklearn import metrics"
   ]
  },
  {
   "cell_type": "code",
   "execution_count": null,
   "metadata": {},
   "outputs": [],
   "source": [
    "from sklearn.model_selection import train_test_split"
   ]
  },
  {
   "cell_type": "code",
   "execution_count": null,
   "metadata": {},
   "outputs": [],
   "source": [
    "from sklearn.linear_model import SGDClassifier"
   ]
  },
  {
   "cell_type": "code",
   "execution_count": null,
   "metadata": {},
   "outputs": [],
   "source": [
    "from sklearn.preprocessing import StandardScaler"
   ]
  },
  {
   "cell_type": "code",
   "execution_count": null,
   "metadata": {},
   "outputs": [],
   "source": [
    "from sklearn.calibration import CalibratedClassifierCV"
   ]
  },
  {
   "cell_type": "code",
   "execution_count": null,
   "metadata": {},
   "outputs": [],
   "source": [
    "from sklearn.svm import LinearSVC"
   ]
  },
  {
   "cell_type": "code",
   "execution_count": null,
   "metadata": {},
   "outputs": [],
   "source": [
    "from sklearn.pipeline import make_pipeline"
   ]
  },
  {
   "cell_type": "code",
   "execution_count": null,
   "metadata": {},
   "outputs": [],
   "source": [
    "X = np.array([\n",
    "[7.0,3.2,4.7,1.4],\n",
    "[6.4,3.2,4.5,1.5],\n",
    "[6.9,3.1,4.9,1.5],\n",
    "[5.5,2.3,4.0,1.3],\n",
    "[6.5,2.8,4.6,1.5],\n",
    "[5.7,2.8,4.5,1.3],\n",
    "[6.3,3.3,4.7,1.6],\n",
    "[4.9,2.4,3.3,1.0],\n",
    "[6.6,2.9,4.6,1.3],\n",
    "[5.2,2.7,3.9,1.4],\n",
    "[5.0,2.0,3.5,1.0],\n",
    "[5.9,3.0,4.2,1.5],\n",
    "[6.0,2.2,4.0,1.0],\n",
    "[6.1,2.9,4.7,1.4],\n",
    "[5.6,2.9,3.6,1.3],\n",
    "[6.7,3.1,4.4,1.4],\n",
    "[5.6,3.0,4.5,1.5],\n",
    "[5.8,2.7,4.1,1.0],\n",
    "[6.2,2.2,4.5,1.5],\n",
    "[5.6,2.5,3.9,1.1],\n",
    "[5.9,3.2,4.8,1.8],\n",
    "[6.1,2.8,4.0,1.3],\n",
    "[6.3,2.5,4.9,1.5],\n",
    "[6.1,2.8,4.7,1.2],\n",
    "[6.4,2.9,4.3,1.3],\n",
    "[6.6,3.0,4.4,1.4],\n",
    "[6.8,2.8,4.8,1.4],\n",
    "[6.7,3.0,5.0,1.7],\n",
    "[6.0,2.9,4.5,1.5],\n",
    "[5.7,2.6,3.5,1.0],\n",
    "[5.5,2.4,3.8,1.1],\n",
    "[5.5,2.4,3.7,1.0],\n",
    "[5.8,2.7,3.9,1.2],\n",
    "[6.0,2.7,5.1,1.6],\n",
    "[5.4,3.0,4.5,1.5],\n",
    "[6.0,3.4,4.5,1.6],\n",
    "[6.7,3.1,4.7,1.5],\n",
    "[6.3,2.3,4.4,1.3],\n",
    "[5.6,3.0,4.1,1.3],\n",
    "[5.5,2.5,4.0,1.3],\n",
    "[5.5,2.6,4.4,1.2],\n",
    "[6.1,3.0,4.6,1.4],\n",
    "[5.8,2.6,4.0,1.2],\n",
    "[5.0,2.3,3.3,1.0],\n",
    "[5.6,2.7,4.2,1.3],\n",
    "[5.7,3.0,4.2,1.2],\n",
    "[5.7,2.9,4.2,1.3],\n",
    "[6.2,2.9,4.3,1.3],\n",
    "[5.1,2.5,3.0,1.1],\n",
    "[5.7,2.8,4.1,1.3],\n",
    "[6.3,3.3,6.0,2.5],\n",
    "[5.8,2.7,5.1,1.9],\n",
    "[7.1,3.0,5.9,2.1],\n",
    "[6.3,2.9,5.6,1.8],\n",
    "[6.5,3.0,5.8,2.2],\n",
    "[7.6,3.0,6.6,2.1],\n",
    "[4.9,2.5,4.5,1.7],\n",
    "[7.3,2.9,6.3,1.8],\n",
    "[6.7,2.5,5.8,1.8],\n",
    "[7.2,3.6,6.1,2.5],\n",
    "[6.5,3.2,5.1,2.0],\n",
    "[6.4,2.7,5.3,1.9],\n",
    "[6.8,3.0,5.5,2.1],\n",
    "[5.7,2.5,5.0,2.0],\n",
    "[5.8,2.8,5.1,2.4],\n",
    "[6.4,3.2,5.3,2.3],\n",
    "[6.5,3.0,5.5,1.8],\n",
    "[7.7,3.8,6.7,2.2],\n",
    "[7.7,2.6,6.9,2.3],\n",
    "[6.0,2.2,5.0,1.5],\n",
    "[6.9,3.2,5.7,2.3],\n",
    "[5.6,2.8,4.9,2.0],\n",
    "[7.7,2.8,6.7,2.0],\n",
    "[6.3,2.7,4.9,1.8],\n",
    "[6.7,3.3,5.7,2.1],\n",
    "[7.2,3.2,6.0,1.8],\n",
    "[6.2,2.8,4.8,1.8],\n",
    "[6.1,3.0,4.9,1.8],\n",
    "[6.4,2.8,5.6,2.1],\n",
    "[7.2,3.0,5.8,1.6],\n",
    "[7.4,2.8,6.1,1.9],\n",
    "[7.9,3.8,6.4,2.0],\n",
    "[6.4,2.8,5.6,2.2],\n",
    "[6.3,2.8,5.1,1.5],\n",
    "[6.1,2.6,5.6,1.4],\n",
    "[7.7,3.0,6.1,2.3],\n",
    "[6.3,3.4,5.6,2.4],\n",
    "[6.4,3.1,5.5,1.8],\n",
    "[6.0,3.0,4.8,1.8],\n",
    "[6.9,3.1,5.4,2.1],\n",
    "[6.7,3.1,5.6,2.4],\n",
    "[6.9,3.1,5.1,2.3],\n",
    "[5.8,2.7,5.1,1.9],\n",
    "[6.8,3.2,5.9,2.3],\n",
    "[6.7,3.3,5.7,2.5],\n",
    "[6.7,3.0,5.2,2.3],\n",
    "[6.3,2.5,5.0,1.9],\n",
    "[6.5,3.0,5.2,2.0],\n",
    "[6.2,3.4,5.4,2.3],\n",
    "[5.9,3.0,5.1,1.8]])"
   ]
  },
  {
   "cell_type": "code",
   "execution_count": null,
   "metadata": {},
   "outputs": [],
   "source": [
    "Y = np.array([1,1,1,1,1,1,1,1,1,1,\n",
    "             1,1,1,1,1,1,1,1,1,1,\n",
    "             1,1,1,1,1,1,1,1,1,1,\n",
    "             1,1,1,1,1,1,1,1,1,1,\n",
    "             1,1,1,1,1,1,1,1,1,1,\n",
    "             0,0,0,0,0,0,0,0,0,0,\n",
    "             0,0,0,0,0,0,0,0,0,0,\n",
    "             0,0,0,0,0,0,0,0,0,0,\n",
    "             0,0,0,0,0,0,0,0,0,0,\n",
    "             0,0,0,0,0,0,0,0,0,0])\n"
   ]
  },
  {
   "cell_type": "code",
   "execution_count": null,
   "metadata": {},
   "outputs": [],
   "source": [
    "clf = make_pipeline(StandardScaler(),SGDClassifier(max_iter=1000, tol=1e-3))"
   ]
  },
  {
   "cell_type": "code",
   "execution_count": null,
   "metadata": {},
   "outputs": [],
   "source": [
    "X_train, X_test, Y_train, Y_test = train_test_split(X, Y, test_size=0.20)"
   ]
  },
  {
   "cell_type": "code",
   "execution_count": 56,
   "metadata": {},
   "outputs": [
    {
     "data": {
      "text/plain": [
       "Pipeline(steps=[('standardscaler', StandardScaler()),\n",
       "                ('sgdclassifier', SGDClassifier())])"
      ]
     },
     "execution_count": 56,
     "metadata": {},
     "output_type": "execute_result"
    }
   ],
   "source": [
    "clf.fit(X_train, Y_train)"
   ]
  },
  {
   "cell_type": "code",
   "execution_count": null,
   "metadata": {},
   "outputs": [],
   "source": [
    "y_pred_train = clf.predict(X_train)"
   ]
  },
  {
   "cell_type": "code",
   "execution_count": null,
   "metadata": {},
   "outputs": [],
   "source": [
    "y_pred_train"
   ]
  },
  {
   "cell_type": "code",
   "execution_count": 31,
   "metadata": {},
   "outputs": [
    {
     "data": {
      "text/plain": [
       "array([1, 0, 0, 1, 0, 1, 1, 0, 0, 0, 1, 0, 0, 0, 0, 1, 0, 0, 0, 1, 0, 0,\n",
       "       0, 0, 0, 1, 1, 1, 0, 0, 0, 0, 0, 1, 1, 1, 1, 0, 1, 1, 1, 0, 1, 1,\n",
       "       1, 0, 1, 1, 1, 1, 1, 0, 0, 0, 1, 1, 0, 1, 1, 1, 1, 0, 0, 0, 1, 0,\n",
       "       0, 0, 1, 0, 1, 1, 1, 1, 0, 0, 0, 0, 0, 0])"
      ]
     },
     "execution_count": 31,
     "metadata": {},
     "output_type": "execute_result"
    }
   ],
   "source": [
    "Y_train"
   ]
  },
  {
   "cell_type": "code",
   "execution_count": 32,
   "metadata": {},
   "outputs": [],
   "source": [
    "calibrator = CalibratedClassifierCV(clf, cv='prefit')\n",
    "model_train= calibrator.fit(X_train, Y_train)\n",
    "model_test = calibrator.fit(X_test, Y_test)"
   ]
  },
  {
   "cell_type": "code",
   "execution_count": 33,
   "metadata": {},
   "outputs": [],
   "source": [
    "y_pred_train = model_train.predict(X_train)"
   ]
  },
  {
   "cell_type": "code",
   "execution_count": 34,
   "metadata": {},
   "outputs": [],
   "source": [
    "y_pred_test = model_test.predict(X_test)"
   ]
  },
  {
   "cell_type": "code",
   "execution_count": 35,
   "metadata": {},
   "outputs": [],
   "source": [
    "confusion_train = metrics.confusion_matrix(Y_train, y_pred_train)"
   ]
  },
  {
   "cell_type": "code",
   "execution_count": 36,
   "metadata": {},
   "outputs": [],
   "source": [
    "x_prob_train = model_train.predict_proba(X_train)"
   ]
  },
  {
   "cell_type": "code",
   "execution_count": 37,
   "metadata": {},
   "outputs": [],
   "source": [
    "x_prob_test = model_test.predict_proba(X_test)"
   ]
  },
  {
   "cell_type": "code",
   "execution_count": 38,
   "metadata": {},
   "outputs": [],
   "source": [
    "tn = confusion_train[0,0]\n",
    "fp = confusion_train[0,1]\n",
    "specificity_train = tn/(fp+tn)"
   ]
  },
  {
   "cell_type": "code",
   "execution_count": 39,
   "metadata": {
    "scrolled": true
   },
   "outputs": [
    {
     "name": "stdout",
     "output_type": "stream",
     "text": [
      "[[42  1]\n",
      " [ 2 35]]\n"
     ]
    }
   ],
   "source": [
    "print(confusion_train)"
   ]
  },
  {
   "cell_type": "code",
   "execution_count": 59,
   "metadata": {},
   "outputs": [
    {
     "name": "stdout",
     "output_type": "stream",
     "text": [
      "Accuracy:  0.9625\n",
      "Sensitivity :  0.9459459459459459\n",
      "Precision:  0.9722222222222222\n",
      "F1:  0.9589041095890412\n",
      "Log loss:  0.1978590828670123\n",
      "Specificity:  0.9767441860465116\n",
      "Parameter vector: [[ 14.56903898  14.87590942 -30.80332397 -28.24278003]]\n",
      "Bias: [-6.09924653]\n"
     ]
    }
   ],
   "source": [
    "print(\"Accuracy: \",accuracy_score(Y_train, y_pred_train))\n",
    "print(\"Sensitivity : \",recall_score(Y_train, y_pred_train))\n",
    "print(\"Precision: \",precision_score(Y_train, y_pred_train))\n",
    "print(\"F1: \",f1_score(Y_train, y_pred_train))\n",
    "print(\"Log loss: \",log_loss(Y_train, x_prob_train))\n",
    "print(\"Specificity: \", specificity_train)\n",
    "print(\"Parameter vector:\", clf.named_steps['sgdclassifier'].coef_)\n",
    "print(\"Bias:\", clf.named_steps['sgdclassifier'].intercept_)"
   ]
  },
  {
   "cell_type": "code",
   "execution_count": 60,
   "metadata": {},
   "outputs": [],
   "source": [
    "confusion_test = metrics.confusion_matrix(Y_test, y_pred_test)"
   ]
  },
  {
   "cell_type": "code",
   "execution_count": 61,
   "metadata": {},
   "outputs": [
    {
     "name": "stdout",
     "output_type": "stream",
     "text": [
      "[[ 7  0]\n",
      " [ 0 13]]\n"
     ]
    }
   ],
   "source": [
    "print(confusion_test)"
   ]
  },
  {
   "cell_type": "code",
   "execution_count": 71,
   "metadata": {},
   "outputs": [],
   "source": [
    "tn = confusion_test[0,0]\n",
    "fp = confusion_test[0,1]\n",
    "specificity_test = tn/(fp+tn)"
   ]
  },
  {
   "cell_type": "code",
   "execution_count": 63,
   "metadata": {},
   "outputs": [
    {
     "name": "stdout",
     "output_type": "stream",
     "text": [
      "Accuracy:  1.0\n",
      "Sensitivity :  1.0\n",
      "Precision:  1.0\n",
      "F1:  1.0\n",
      "Log loss:  0.14472232136407323\n",
      "Specificity:  1.0\n",
      "Parameter vector: [[ 14.56903898  14.87590942 -30.80332397 -28.24278003]]\n",
      "Bias: [-6.09924653]\n"
     ]
    }
   ],
   "source": [
    "print(\"Accuracy: \",accuracy_score(Y_test, y_pred_test))\n",
    "print(\"Sensitivity : \",recall_score(Y_test, y_pred_test))\n",
    "print(\"Precision: \",precision_score(Y_test, y_pred_test))\n",
    "print(\"F1: \",f1_score(Y_test, y_pred_test))\n",
    "print(\"Log loss: \",log_loss(Y_test, x_prob_test))\n",
    "print(\"Specificity: \", specificity_test)\n",
    "print(\"Parameter vector:\", clf.named_steps['sgdclassifier'].coef_)\n",
    "print(\"Bias:\", clf.named_steps['sgdclassifier'].intercept_)"
   ]
  },
  {
   "cell_type": "code",
   "execution_count": 64,
   "metadata": {},
   "outputs": [
    {
     "data": {
      "text/plain": [
       "0.95"
      ]
     },
     "execution_count": 64,
     "metadata": {},
     "output_type": "execute_result"
    }
   ],
   "source": [
    "model_train.score(X_train, Y_train)"
   ]
  },
  {
   "cell_type": "code",
   "execution_count": 65,
   "metadata": {},
   "outputs": [
    {
     "data": {
      "text/plain": [
       "1.0"
      ]
     },
     "execution_count": 65,
     "metadata": {},
     "output_type": "execute_result"
    }
   ],
   "source": [
    "model_test.score(X_test, Y_test)"
   ]
  },
  {
   "cell_type": "code",
   "execution_count": 66,
   "metadata": {
    "scrolled": true
   },
   "outputs": [
    {
     "data": {
      "text/plain": [
       "{'base_estimator__memory': None,\n",
       " 'base_estimator__steps': [('standardscaler', StandardScaler()),\n",
       "  ('sgdclassifier', SGDClassifier())],\n",
       " 'base_estimator__verbose': False,\n",
       " 'base_estimator__standardscaler': StandardScaler(),\n",
       " 'base_estimator__sgdclassifier': SGDClassifier(),\n",
       " 'base_estimator__standardscaler__copy': True,\n",
       " 'base_estimator__standardscaler__with_mean': True,\n",
       " 'base_estimator__standardscaler__with_std': True,\n",
       " 'base_estimator__sgdclassifier__alpha': 0.0001,\n",
       " 'base_estimator__sgdclassifier__average': False,\n",
       " 'base_estimator__sgdclassifier__class_weight': None,\n",
       " 'base_estimator__sgdclassifier__early_stopping': False,\n",
       " 'base_estimator__sgdclassifier__epsilon': 0.1,\n",
       " 'base_estimator__sgdclassifier__eta0': 0.0,\n",
       " 'base_estimator__sgdclassifier__fit_intercept': True,\n",
       " 'base_estimator__sgdclassifier__l1_ratio': 0.15,\n",
       " 'base_estimator__sgdclassifier__learning_rate': 'optimal',\n",
       " 'base_estimator__sgdclassifier__loss': 'hinge',\n",
       " 'base_estimator__sgdclassifier__max_iter': 1000,\n",
       " 'base_estimator__sgdclassifier__n_iter_no_change': 5,\n",
       " 'base_estimator__sgdclassifier__n_jobs': None,\n",
       " 'base_estimator__sgdclassifier__penalty': 'l2',\n",
       " 'base_estimator__sgdclassifier__power_t': 0.5,\n",
       " 'base_estimator__sgdclassifier__random_state': None,\n",
       " 'base_estimator__sgdclassifier__shuffle': True,\n",
       " 'base_estimator__sgdclassifier__tol': 0.001,\n",
       " 'base_estimator__sgdclassifier__validation_fraction': 0.1,\n",
       " 'base_estimator__sgdclassifier__verbose': 0,\n",
       " 'base_estimator__sgdclassifier__warm_start': False,\n",
       " 'base_estimator': Pipeline(steps=[('standardscaler', StandardScaler()),\n",
       "                 ('sgdclassifier', SGDClassifier())]),\n",
       " 'cv': 'prefit',\n",
       " 'method': 'sigmoid'}"
      ]
     },
     "execution_count": 66,
     "metadata": {},
     "output_type": "execute_result"
    }
   ],
   "source": [
    "model_test.get_params()"
   ]
  },
  {
   "cell_type": "code",
   "execution_count": 67,
   "metadata": {},
   "outputs": [],
   "source": [
    "from sklearn.svm import LinearSVC\n"
   ]
  },
  {
   "cell_type": "code",
   "execution_count": 68,
   "metadata": {},
   "outputs": [],
   "source": [
    "svc = LinearSVC(C=1.0)"
   ]
  },
  {
   "cell_type": "code",
   "execution_count": 69,
   "metadata": {},
   "outputs": [],
   "source": [
    "from matplotlib import pyplot as plt"
   ]
  },
  {
   "cell_type": "code",
   "execution_count": 70,
   "metadata": {
    "scrolled": false
   },
   "outputs": [
    {
     "data": {
      "text/plain": [
       "<matplotlib.collections.PathCollection at 0x15509d078e0>"
      ]
     },
     "execution_count": 70,
     "metadata": {},
     "output_type": "execute_result"
    },
    {
     "data": {
      "image/png": "[encoded data removed]",
      "text/plain": [
       "<Figure size 432x288 with 1 Axes>"
      ]
     },
     "metadata": {
      "needs_background": "light"
     },
     "output_type": "display_data"
    }
   ],
   "source": [
    "color = ['red' if c == 0 else 'blue' for c in Y_train]\n",
    "plt.scatter(X_train[:,0], X_train[:,1], c=color)"
   ]
  },
  {
   "cell_type": "code",
   "execution_count": null,
   "metadata": {},
   "outputs": [],
   "source": []
  },
  {
   "cell_type": "code",
   "execution_count": null,
   "metadata": {},
   "outputs": [],
   "source": []
  },
  {
   "cell_type": "code",
   "execution_count": null,
   "metadata": {},
   "outputs": [],
   "source": []
  }
 ],
 "metadata": {
  "kernelspec": {
   "display_name": "Python 3",
   "language": "python",
   "name": "python3"
  },
  "language_info": {
   "codemirror_mode": {
    "name": "ipython",
    "version": 3
   },
   "file_extension": ".py",
   "mimetype": "text/x-python",
   "name": "python",
   "nbconvert_exporter": "python",
   "pygments_lexer": "ipython3",
   "version": "3.8.5"
  }
 },
 "nbformat": 4,
 "nbformat_minor": 5
}
